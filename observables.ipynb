{
 "cells": [
  {
   "cell_type": "markdown",
   "id": "09b41fec-1a13-411f-9ad4-636792584ed1",
   "metadata": {},
   "source": [
    "# Physical Parameter: Planet Radius"
   ]
  },
  {
   "cell_type": "code",
   "execution_count": null,
   "id": "eb43c0d3-e741-47d0-9173-40adf0577285",
   "metadata": {},
   "outputs": [],
   "source": []
  }
 ],
 "metadata": {
  "kernelspec": {
   "display_name": "Python [conda env:base] *",
   "language": "python",
   "name": "conda-base-py"
  },
  "language_info": {
   "codemirror_mode": {
    "name": "ipython",
    "version": 3
   },
   "file_extension": ".py",
   "mimetype": "text/x-python",
   "name": "python",
   "nbconvert_exporter": "python",
   "pygments_lexer": "ipython3",
   "version": "3.12.7"
  }
 },
 "nbformat": 4,
 "nbformat_minor": 5
}
